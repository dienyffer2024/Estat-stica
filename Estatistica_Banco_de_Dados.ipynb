{
  "nbformat": 4,
  "nbformat_minor": 0,
  "metadata": {
    "colab": {
      "provenance": [],
      "authorship_tag": "ABX9TyPzNjhUda1LQ/n1ao6GnQNe",
      "include_colab_link": true
    },
    "kernelspec": {
      "name": "python3",
      "display_name": "Python 3"
    },
    "language_info": {
      "name": "python"
    }
  },
  "cells": [
    {
      "cell_type": "markdown",
      "metadata": {
        "id": "view-in-github",
        "colab_type": "text"
      },
      "source": [
        "<a href=\"https://colab.research.google.com/github/dienyffer2024/Estatistica/blob/Dados/Estatistica_Banco_de_Dados.ipynb\" target=\"_parent\"><img src=\"https://colab.research.google.com/assets/colab-badge.svg\" alt=\"Open In Colab\"/></a>"
      ]
    },
    {
      "cell_type": "markdown",
      "source": [
        "# Instalação"
      ],
      "metadata": {
        "id": "Xq05hwvpRaly"
      }
    },
    {
      "cell_type": "code",
      "execution_count": null,
      "metadata": {
        "colab": {
          "base_uri": "https://localhost:8080/"
        },
        "id": "ftOIfG8WeWs2",
        "outputId": "5070461b-bebc-4805-b31c-3398b4d439a4"
      },
      "outputs": [
        {
          "output_type": "stream",
          "name": "stdout",
          "text": [
            "Collecting mysql-connector-python\n",
            "  Downloading mysql_connector_python-9.0.0-cp310-cp310-manylinux_2_17_x86_64.whl.metadata (2.0 kB)\n",
            "Downloading mysql_connector_python-9.0.0-cp310-cp310-manylinux_2_17_x86_64.whl (19.3 MB)\n",
            "\u001b[2K   \u001b[90m━━━━━━━━━━━━━━━━━━━━━━━━━━━━━━━━━━━━━━━━\u001b[0m \u001b[32m19.3/19.3 MB\u001b[0m \u001b[31m33.6 MB/s\u001b[0m eta \u001b[36m0:00:00\u001b[0m\n",
            "\u001b[?25hInstalling collected packages: mysql-connector-python\n",
            "Successfully installed mysql-connector-python-9.0.0\n"
          ]
        }
      ],
      "source": [
        "!pip install mysql-connector-python"
      ]
    },
    {
      "cell_type": "markdown",
      "source": [
        "##Definir credenciais e informações da conexão"
      ],
      "metadata": {
        "id": "Acmw0a9jRgwP"
      }
    },
    {
      "cell_type": "code",
      "source": [
        "import mysql.connector\n",
        "from mysql.connector import Error\n",
        "host = '34.46.115.184'\n",
        "database = 'locadora'\n",
        "user = 'bd-soulcode'\n",
        "password = 'DFshsh@876'"
      ],
      "metadata": {
        "id": "N9isJeK8ed9x"
      },
      "execution_count": null,
      "outputs": []
    },
    {
      "cell_type": "markdown",
      "source": [
        "##Criar conexão com a Base de Dados"
      ],
      "metadata": {
        "id": "sepcs9ObRtWR"
      }
    },
    {
      "cell_type": "code",
      "source": [
        "def conect_to_database():\n",
        "  try:\n",
        "    connection = mysql.connector.connect(\n",
        "        host=host,\n",
        "        database=database,\n",
        "        user=user,\n",
        "        password=password\n",
        "    )\n",
        "    if connection.is_connected():\n",
        "      print(\"Conexão bem sucedida ao banco de dados SQL!\")\n",
        "      return connection\n",
        "  except Error as e:\n",
        "    print(f\"Erro ao conectar ao banco de dados: {e}\")\n",
        "    return None"
      ],
      "metadata": {
        "id": "zpIpqVvOe0CK"
      },
      "execution_count": null,
      "outputs": []
    },
    {
      "cell_type": "code",
      "source": [
        "connection = conect_to_database()"
      ],
      "metadata": {
        "colab": {
          "base_uri": "https://localhost:8080/"
        },
        "id": "VlwqWBN3fIAa",
        "outputId": "1e03ff64-0bad-4e5d-c45a-f3eb6572d95f"
      },
      "execution_count": null,
      "outputs": [
        {
          "output_type": "stream",
          "name": "stdout",
          "text": [
            "Conexão bem sucedida ao banco de dados SQL!\n"
          ]
        }
      ]
    },
    {
      "cell_type": "markdown",
      "source": [
        "##Função para mostrar as tabelas disponíveis no Cloud"
      ],
      "metadata": {
        "id": "bmHPzy2bV9P8"
      }
    },
    {
      "cell_type": "code",
      "source": [
        "def list_all_tables(connection):\n",
        "    try:\n",
        "        cursor = connection.cursor()\n",
        "        # Executa o comando SHOW TABLES para listar todas as tabelas no banco de dados\n",
        "        cursor.execute(\"SHOW TABLES;\")\n",
        "        tables = cursor.fetchall()\n",
        "\n",
        "        if tables:\n",
        "            print(\"Tabelas no banco de dados:\")\n",
        "            for table in tables:\n",
        "                print(table[0])\n",
        "        else:\n",
        "            print(\"Nenhuma tabela encontrada.\")\n",
        "\n",
        "    except Error as e:\n",
        "        print(\"Erro ao listar tabelas\", e)\n",
        "\n",
        "    finally:\n",
        "        cursor.close()\n",
        "\n",
        "if connection:\n",
        "    # Listar todas as tabelas\n",
        "    list_all_tables(connection)"
      ],
      "metadata": {
        "colab": {
          "base_uri": "https://localhost:8080/"
        },
        "id": "kbDzceaHe4KD",
        "outputId": "c5c2dd33-4efe-49c3-abbc-bac0daa30613"
      },
      "execution_count": null,
      "outputs": [
        {
          "output_type": "stream",
          "name": "stdout",
          "text": [
            "Tabelas no banco de dados:\n",
            "aluguel\n",
            "carro\n",
            "cliente\n",
            "marca\n"
          ]
        }
      ]
    },
    {
      "cell_type": "markdown",
      "source": [
        "##Instalando Pandas"
      ],
      "metadata": {
        "id": "3VSKk6SkS_bL"
      }
    },
    {
      "cell_type": "code",
      "source": [
        "!pip install pandas"
      ],
      "metadata": {
        "colab": {
          "base_uri": "https://localhost:8080/"
        },
        "id": "D3vZVL4wfT58",
        "outputId": "af93821f-d0dd-4e22-fb76-ea09f3b0dce7"
      },
      "execution_count": null,
      "outputs": [
        {
          "output_type": "stream",
          "name": "stdout",
          "text": [
            "Requirement already satisfied: pandas in /usr/local/lib/python3.10/dist-packages (2.1.4)\n",
            "Requirement already satisfied: numpy<2,>=1.22.4 in /usr/local/lib/python3.10/dist-packages (from pandas) (1.26.4)\n",
            "Requirement already satisfied: python-dateutil>=2.8.2 in /usr/local/lib/python3.10/dist-packages (from pandas) (2.8.2)\n",
            "Requirement already satisfied: pytz>=2020.1 in /usr/local/lib/python3.10/dist-packages (from pandas) (2024.2)\n",
            "Requirement already satisfied: tzdata>=2022.1 in /usr/local/lib/python3.10/dist-packages (from pandas) (2024.1)\n",
            "Requirement already satisfied: six>=1.5 in /usr/local/lib/python3.10/dist-packages (from python-dateutil>=2.8.2->pandas) (1.16.0)\n"
          ]
        }
      ]
    },
    {
      "cell_type": "markdown",
      "source": [
        "## Convertendo em Dataframe"
      ],
      "metadata": {
        "id": "oHLNh4aDTIdP"
      }
    },
    {
      "cell_type": "code",
      "source": [
        "import pandas as pd\n",
        "def fecth_data_as_dataframe(connection, query):\n",
        "  try:\n",
        "    cursor =connection.cursor()\n",
        "    cursor.execute(query)\n",
        "    data = cursor.fetchall()\n",
        "    columns = [desc[0] for desc in cursor.description]\n",
        "    dfpd = pd.DataFrame(data, columns=columns)\n",
        "    return dfpd\n",
        "  except Error as e:\n",
        "    print(\"Erro ao consultar dados\", e)\n",
        "    return None\n",
        "  finally:\n",
        "    cursor.close()\n",
        "\n",
        "if connection:\n",
        "  # Consultar dados da tabela aluguel\n",
        "  query = \"SELECT * FROM aluguel;\"\n",
        "  df_aluguel = fecth_data_as_dataframe(connection, query)\n",
        "\n",
        "  if df_aluguel is not None:\n",
        "    print(\"Dados da Tabela aluguel:\")\n",
        "    print(df_aluguel.head())\n",
        "    print(df_aluguel.dtypes)"
      ],
      "metadata": {
        "colab": {
          "base_uri": "https://localhost:8080/"
        },
        "id": "vuZFAabkfe-b",
        "outputId": "3b9be96c-8b74-40a2-e6ad-4cd27621c108"
      },
      "execution_count": null,
      "outputs": [
        {
          "output_type": "stream",
          "name": "stdout",
          "text": [
            "Dados da Tabela aluguel:\n",
            "   codaluguel  codcliente  codcarro data_aluguel\n",
            "0           1           3         2   2023-04-01\n",
            "1           2           2         1   2023-04-02\n",
            "2           3           2         1   2023-04-03\n",
            "3           4           2         3   2023-04-04\n",
            "4           5           1         4   2023-04-05\n",
            "codaluguel       int64\n",
            "codcliente       int64\n",
            "codcarro         int64\n",
            "data_aluguel    object\n",
            "dtype: object\n"
          ]
        }
      ]
    },
    {
      "cell_type": "markdown",
      "source": [
        "#Tratamento dos dados"
      ],
      "metadata": {
        "id": "nsbInE9wTNlN"
      }
    },
    {
      "cell_type": "markdown",
      "source": [
        "##Transformando datas para o formato correto"
      ],
      "metadata": {
        "id": "0nn_cuIbTRlr"
      }
    },
    {
      "cell_type": "code",
      "source": [
        "df_aluguel['data_aluguel'] = pd.to_datetime(df_aluguel['data_aluguel'])\n",
        "\n",
        "# Verificando a conversão\n",
        "print(df_aluguel.dtypes)\n",
        "print(df_aluguel)"
      ],
      "metadata": {
        "colab": {
          "base_uri": "https://localhost:8080/"
        },
        "id": "I-KDFjhZVR3D",
        "outputId": "5d70fa60-8fb9-4e5d-b20a-820a362d1b58"
      },
      "execution_count": null,
      "outputs": [
        {
          "output_type": "stream",
          "name": "stdout",
          "text": [
            "codaluguel               int64\n",
            "codcliente               int64\n",
            "codcarro                 int64\n",
            "data_aluguel    datetime64[ns]\n",
            "dtype: object\n",
            "   codaluguel  codcliente  codcarro data_aluguel\n",
            "0           1           3         2   2023-04-01\n",
            "1           2           2         1   2023-04-02\n",
            "2           3           2         1   2023-04-03\n",
            "3           4           2         3   2023-04-04\n",
            "4           5           1         4   2023-04-05\n",
            "5           6           1         4   2023-04-13\n",
            "6           7           1         1   2023-04-15\n",
            "7           8           5         2   2023-04-19\n",
            "8           9           5         2   2023-04-21\n",
            "9          10           3         1   2023-04-25\n"
          ]
        }
      ]
    },
    {
      "cell_type": "markdown",
      "source": [
        "##Converter a conexão com BD em DataFrame Pandas"
      ],
      "metadata": {
        "id": "lscSx0MjTYuL"
      }
    },
    {
      "cell_type": "code",
      "source": [
        "import pandas as pd\n",
        "def fecth_data_as_dataframe(connection, query):\n",
        "  try:\n",
        "    cursor =connection.cursor()\n",
        "    cursor.execute(query)\n",
        "    data = cursor.fetchall()\n",
        "    columns = [desc[0] for desc in cursor.description]\n",
        "    dfpd = pd.DataFrame(data, columns=columns)\n",
        "    return dfpd\n",
        "  except Error as e:\n",
        "    print(\"Erro ao consultar dados\", e)\n",
        "    return None\n",
        "  finally:\n",
        "    cursor.close()\n",
        "\n",
        "if connection:\n",
        "  #Consultar dados da tabela carro\n",
        "  query = \"SELECT * FROM carro;\"\n",
        "  df_carro = fecth_data_as_dataframe(connection, query)\n",
        "\n",
        "  if df_carro is not None:\n",
        "    print(\"Dados da Tabela carro:\")\n",
        "    print(df_carro.head())\n",
        "    print(df_carro.dtypes)"
      ],
      "metadata": {
        "colab": {
          "base_uri": "https://localhost:8080/"
        },
        "id": "etmBSVYwfo7q",
        "outputId": "e22432dd-55d0-409a-97ef-50822c490ef2"
      },
      "execution_count": null,
      "outputs": [
        {
          "output_type": "stream",
          "name": "stdout",
          "text": [
            "Dados da Tabela carro:\n",
            "   codcarro  codmarca modelo  valor\n",
            "0         1         1     Ka  100.0\n",
            "1         2         2   Argo  150.0\n",
            "2         3         3   Onix  170.0\n",
            "3         4         4   Polo  150.0\n",
            "4         5         5   Kwid  120.0\n",
            "codcarro      int64\n",
            "codmarca      int64\n",
            "modelo       object\n",
            "valor       float64\n",
            "dtype: object\n"
          ]
        }
      ]
    },
    {
      "cell_type": "code",
      "source": [
        "import pandas as pd\n",
        "def fecth_data_as_dataframe(connection, query):\n",
        "  try:\n",
        "    cursor =connection.cursor()\n",
        "    cursor.execute(query)\n",
        "    data = cursor.fetchall()\n",
        "    columns = [desc[0] for desc in cursor.description]\n",
        "    dfpd = pd.DataFrame(data, columns=columns)\n",
        "    return dfpd\n",
        "  except Error as e:\n",
        "    print(\"Erro ao consultar dados\", e)\n",
        "    return None\n",
        "  finally:\n",
        "    cursor.close()\n",
        "\n",
        "if connection:\n",
        "  #Consultar dados da tabela cliente\n",
        "  query = \"SELECT * FROM cliente;\"\n",
        "  df_cliente = fecth_data_as_dataframe(connection, query)\n",
        "\n",
        "  if df_cliente is not None:\n",
        "    print(\"Dados da Tabela cliente:\")\n",
        "    print(df_cliente.head())"
      ],
      "metadata": {
        "colab": {
          "base_uri": "https://localhost:8080/"
        },
        "id": "amWuOTwhfz6f",
        "outputId": "4581b021-4a78-4116-8fc6-e2d23a5b91ec"
      },
      "execution_count": null,
      "outputs": [
        {
          "output_type": "stream",
          "name": "stdout",
          "text": [
            "Dados da Tabela cliente:\n",
            "   codcliente              nome           cidade sexo estado estadocivil\n",
            "0           1         Ana Silva  Duque de Caxias    F     RJ           C\n",
            "1           2     Bruna Pereira          Niterói    F     RJ           C\n",
            "2           3  Túlio Nascimento  Duque de Caxias    M     RJ           S\n",
            "3           4    Fernando Souza         Campinas    M     SP           S\n",
            "4           5     Lúcia Andrade        São Paulo    F     SP           C\n"
          ]
        }
      ]
    },
    {
      "cell_type": "code",
      "source": [
        "import pandas as pd\n",
        "def fecth_data_as_dataframe(connection, query):\n",
        "  try:\n",
        "    cursor =connection.cursor()\n",
        "    cursor.execute(query)\n",
        "    data = cursor.fetchall()\n",
        "    columns = [desc[0] for desc in cursor.description]\n",
        "    dfpd = pd.DataFrame(data, columns=columns)\n",
        "    return dfpd\n",
        "  except Error as e:\n",
        "    print(\"Erro ao consultar dados\", e)\n",
        "    return None\n",
        "  finally:\n",
        "    cursor.close()\n",
        "\n",
        "if connection:\n",
        "  #Consultar dados da tabela marca\n",
        "  query = \"SELECT * FROM marca;\"\n",
        "  df_marca = fecth_data_as_dataframe(connection, query)\n",
        "\n",
        "  if df_marca is not None:\n",
        "    print(\"Dados da Tabela marca:\")\n",
        "    print(df_marca.head())"
      ],
      "metadata": {
        "colab": {
          "base_uri": "https://localhost:8080/"
        },
        "id": "10iOdrCOf5s2",
        "outputId": "a42b3bcc-acd9-4da6-a6eb-31f1c5fb62fa"
      },
      "execution_count": null,
      "outputs": [
        {
          "output_type": "stream",
          "name": "stdout",
          "text": [
            "Dados da Tabela marca:\n",
            "   codmarca       marca\n",
            "0         1        Ford\n",
            "1         2        Fiat\n",
            "2         3   Chevrolet\n",
            "3         4  Volkswagen\n",
            "4         5     Renault\n"
          ]
        }
      ]
    },
    {
      "cell_type": "markdown",
      "source": [
        "## Insights das tabelas do Dataframe locadora##"
      ],
      "metadata": {
        "id": "GPqblqxOcK44"
      }
    },
    {
      "cell_type": "markdown",
      "source": [
        "**Contando a frequência de aluguel por cliente**"
      ],
      "metadata": {
        "id": "sc4yObB8Tjr4"
      }
    },
    {
      "cell_type": "code",
      "source": [
        "frequencia_aluguel = df_aluguel['codcliente'].value_counts().reset_index()\n",
        "frequencia_aluguel.columns = ['codcliente', 'frequencia']\n",
        "\n",
        "# Unindo com os dados dos clientes para obter os nomes\n",
        "resultado = frequencia_aluguel.merge(df_cliente, on='codcliente', how='left')[['nome', 'frequencia']]\n",
        "\n",
        "# Exibindo o resultado\n",
        "print(resultado)"
      ],
      "metadata": {
        "colab": {
          "base_uri": "https://localhost:8080/"
        },
        "id": "PzGjlwyhaJCG",
        "outputId": "4cf7a98f-2638-4b9a-c596-153ea6fe9d2f"
      },
      "execution_count": null,
      "outputs": [
        {
          "output_type": "stream",
          "name": "stdout",
          "text": [
            "               nome  frequencia\n",
            "0     Bruna Pereira           3\n",
            "1         Ana Silva           3\n",
            "2  Túlio Nascimento           2\n",
            "3     Lúcia Andrade           2\n"
          ]
        }
      ]
    },
    {
      "cell_type": "markdown",
      "source": [
        "**Contando a distribuição por Sexo e Estado Civil**"
      ],
      "metadata": {
        "id": "fk80EYYETss-"
      }
    },
    {
      "cell_type": "code",
      "source": [
        "distribuicao = df_cliente.groupby(['sexo', 'estadocivil']).size().reset_index(name='contagem')\n",
        "\n",
        "# Exibindo o resultado\n",
        "print(distribuicao)"
      ],
      "metadata": {
        "colab": {
          "base_uri": "https://localhost:8080/"
        },
        "id": "I68FiV-0cblk",
        "outputId": "ac694aa6-bd53-49f5-b512-ef5924a83632"
      },
      "execution_count": null,
      "outputs": [
        {
          "output_type": "stream",
          "name": "stdout",
          "text": [
            "  sexo estadocivil  contagem\n",
            "0    F           C         3\n",
            "1    M           S         2\n"
          ]
        }
      ]
    },
    {
      "cell_type": "markdown",
      "source": [
        "**Contando a distribuição por Cidade e Estado**"
      ],
      "metadata": {
        "id": "tPYjQg5vTwMi"
      }
    },
    {
      "cell_type": "code",
      "source": [
        "distribuicao_cidade = df_cliente['cidade'].value_counts().reset_index()\n",
        "distribuicao_cidade.columns = ['cidade', 'contagem']\n",
        "\n",
        "distribuicao_estado = df_cliente['estado'].value_counts().reset_index()\n",
        "distribuicao_estado.columns = ['estado', 'contagem']\n",
        "\n",
        "# Exibindo os resultados\n",
        "print(\"Distribuição por Cidade:\")\n",
        "print(distribuicao_cidade)\n",
        "print(\"\\nDistribuição por Estado:\")\n",
        "print(distribuicao_estado)"
      ],
      "metadata": {
        "colab": {
          "base_uri": "https://localhost:8080/"
        },
        "id": "G0VZCxuhcndn",
        "outputId": "50bc1608-915b-438b-bd1e-b9d1f665c440"
      },
      "execution_count": null,
      "outputs": [
        {
          "output_type": "stream",
          "name": "stdout",
          "text": [
            "Distribuição por Cidade:\n",
            "            cidade  contagem\n",
            "0  Duque de Caxias         2\n",
            "1          Niterói         1\n",
            "2         Campinas         1\n",
            "3        São Paulo         1\n",
            "\n",
            "Distribuição por Estado:\n",
            "  estado  contagem\n",
            "0     RJ         3\n",
            "1     SP         2\n"
          ]
        }
      ]
    },
    {
      "cell_type": "markdown",
      "source": [
        "**Contando a diversidade de modelos por marca e Juntando com os dados das marcas**"
      ],
      "metadata": {
        "id": "7NA8T6IeT31L"
      }
    },
    {
      "cell_type": "code",
      "source": [
        "diversidade = df_carro.groupby('codmarca').size().reset_index(name='quantidade_modelos')\n",
        "\n",
        "resultado = diversidade.merge(df_marca, on='codmarca', how='left')[['marca', 'quantidade_modelos']]\n",
        "\n",
        "print(\"Diversidade de Marcas e Modelos:\")\n",
        "print(resultado)"
      ],
      "metadata": {
        "colab": {
          "base_uri": "https://localhost:8080/"
        },
        "id": "kl6Nn124c4Gd",
        "outputId": "a14bf31f-f897-4783-fb0b-e298e13badbb"
      },
      "execution_count": null,
      "outputs": [
        {
          "output_type": "stream",
          "name": "stdout",
          "text": [
            "Diversidade de Marcas e Modelos:\n",
            "        marca  quantidade_modelos\n",
            "0        Ford                   1\n",
            "1        Fiat                   1\n",
            "2   Chevrolet                   1\n",
            "3  Volkswagen                   1\n",
            "4     Renault                   1\n"
          ]
        }
      ]
    },
    {
      "cell_type": "markdown",
      "source": [
        "**Analisando perfis de clientes por preferências de carro e juntando os dataframes**"
      ],
      "metadata": {
        "id": "w4nc_cD5UHL4"
      }
    },
    {
      "cell_type": "code",
      "source": [
        "merged = df_aluguel.merge(df_carro, on='codcarro').merge(df_marca, on='codmarca').merge(df_cliente, on='codcliente')\n",
        "\n",
        "perfil_clientes = merged.groupby(['nome', 'sexo', 'estadocivil', 'modelo', 'marca']).size().reset_index(name='quantidade_alugueis')\n",
        "\n",
        "print(\"Perfis de Clientes por Preferências de Carro:\")\n",
        "print(perfil_clientes)"
      ],
      "metadata": {
        "colab": {
          "base_uri": "https://localhost:8080/"
        },
        "id": "wzQLjW48dJx-",
        "outputId": "4709fa47-4742-4341-ffc7-4dbc43f1843f"
      },
      "execution_count": null,
      "outputs": [
        {
          "output_type": "stream",
          "name": "stdout",
          "text": [
            "Perfis de Clientes por Preferências de Carro:\n",
            "               nome sexo estadocivil modelo       marca  quantidade_alugueis\n",
            "0         Ana Silva    F           C     Ka        Ford                    1\n",
            "1         Ana Silva    F           C   Polo  Volkswagen                    2\n",
            "2     Bruna Pereira    F           C     Ka        Ford                    2\n",
            "3     Bruna Pereira    F           C   Onix   Chevrolet                    1\n",
            "4     Lúcia Andrade    F           C   Argo        Fiat                    2\n",
            "5  Túlio Nascimento    M           S   Argo        Fiat                    1\n",
            "6  Túlio Nascimento    M           S     Ka        Ford                    1\n"
          ]
        }
      ]
    },
    {
      "cell_type": "markdown",
      "source": [
        "**Cálculo da média, mediana e moda**"
      ],
      "metadata": {
        "id": "PJ4IXCMLUQlY"
      }
    },
    {
      "cell_type": "code",
      "source": [
        "media_valor = df_carro['valor'].mean()\n",
        "mediana_valor = df_carro['valor'].median()\n",
        "moda_valor = df_carro['valor'].mode()[0]  # A moda pode retornar uma série, pegamos o primeiro valor\n",
        "\n",
        "print(f\"Média do valor dos carros: {media_valor}\")\n",
        "print(f\"Mediana do valor dos carros: {mediana_valor}\")\n",
        "print(f\"Moda do valor dos carros: {moda_valor}\")"
      ],
      "metadata": {
        "colab": {
          "base_uri": "https://localhost:8080/"
        },
        "id": "r-ytrFVKeQpW",
        "outputId": "c25163db-72af-4105-a8dc-6958d18c2be8"
      },
      "execution_count": null,
      "outputs": [
        {
          "output_type": "stream",
          "name": "stdout",
          "text": [
            "Média do valor dos carros: 138.0\n",
            "Mediana do valor dos carros: 150.0\n",
            "Moda do valor dos carros: 150.0\n"
          ]
        }
      ]
    },
    {
      "cell_type": "markdown",
      "source": [
        "**Cálculo da variância e desvio padrão**"
      ],
      "metadata": {
        "id": "99GGab7QUVaM"
      }
    },
    {
      "cell_type": "code",
      "source": [
        "variancia_valor = df_carro['valor'].var()\n",
        "desvio_padrao_valor = df_carro['valor'].std()\n",
        "\n",
        "print(f\"Variância do valor dos carros: {variancia_valor}\")\n",
        "print(f\"Desvio Padrão do valor dos carros: {desvio_padrao_valor}\")"
      ],
      "metadata": {
        "colab": {
          "base_uri": "https://localhost:8080/"
        },
        "id": "w7yV4dahfvxC",
        "outputId": "b5085e26-e1ea-4270-c607-ea0f14fc7a43"
      },
      "execution_count": null,
      "outputs": [
        {
          "output_type": "stream",
          "name": "stdout",
          "text": [
            "Variância do valor dos carros: 770.0\n",
            "Desvio Padrão do valor dos carros: 27.748873851023216\n"
          ]
        }
      ]
    },
    {
      "cell_type": "markdown",
      "source": [
        "# Usando Matplotlib para visualização"
      ],
      "metadata": {
        "id": "c1dgCadiUacD"
      }
    },
    {
      "cell_type": "markdown",
      "source": [
        "**Análise de distribuição por gênero, estado civil e análise de alugueis por cliente**"
      ],
      "metadata": {
        "id": "TkkuHghnUf5e"
      }
    },
    {
      "cell_type": "code",
      "source": [
        "import matplotlib.pyplot as plt\n",
        "\n",
        "# Análise de distribuição por sexo\n",
        "sexo_counts = df_cliente['sexo'].value_counts()\n",
        "sexo_counts.plot(kind='bar', title='Distribuição por Sexo')\n",
        "plt.ylabel('Quantidade')\n",
        "plt.show()\n",
        "\n",
        "# Análise de distribuição por estado civil\n",
        "estadocivil_counts = df_cliente['estadocivil'].value_counts()\n",
        "estadocivil_counts.plot(kind='bar', title='Distribuição por Estado Civil')\n",
        "plt.ylabel('Quantidade')\n",
        "plt.show()\n",
        "\n",
        "# Análise de aluguéis por cliente\n",
        "aluguels_counts = df_aluguel['codcliente'].value_counts()\n",
        "aluguels_counts.plot(kind='bar', title='Frequência de Aluguéis por Cliente')\n",
        "plt.ylabel('Quantidade de Aluguéis')\n",
        "plt.show()"
      ],
      "metadata": {
        "colab": {
          "base_uri": "https://localhost:8080/",
          "height": 1000
        },
        "id": "ESP4tOz_gqpG",
        "outputId": "be02d43e-3e43-4df9-a203-980021d7879c"
      },
      "execution_count": null,
      "outputs": [
        {
          "output_type": "display_data",
          "data": {
            "text/plain": [
              "<Figure size 640x480 with 1 Axes>"
            ],
            "image/png": "[encoded data removed]"
          },
          "metadata": {}
        },
        {
          "output_type": "display_data",
          "data": {
            "text/plain": [
              "<Figure size 640x480 with 1 Axes>"
            ],
            "image/png": "[encoded data removed]"
          },
          "metadata": {}
        },
        {
          "output_type": "display_data",
          "data": {
            "text/plain": [
              "<Figure size 640x480 with 1 Axes>"
            ],
            "image/png": "[encoded data removed]"
          },
          "metadata": {}
        }
      ]
    },
    {
      "cell_type": "markdown",
      "source": [
        "**Calculando a matriz de correlação**"
      ],
      "metadata": {
        "id": "zlTH3RLQUzx4"
      }
    },
    {
      "cell_type": "code",
      "source": [
        "import pandas as pd\n",
        "import seaborn as sns\n",
        "import matplotlib.pyplot as plt\n",
        "\n",
        "# Junção das tabelas para análise\n",
        "merged = df_aluguel.merge(df_cliente, on='codcliente').merge(df_carro, on='codcarro')\n",
        "\n",
        "# Total de aluguéis por cliente\n",
        "total_alugueis = merged['codcliente'].value_counts().reset_index()\n",
        "total_alugueis.columns = ['codcliente', 'total_alugueis']\n",
        "merged = merged.merge(total_alugueis, on='codcliente')\n",
        "\n",
        "# Convertendo colunas categóricas em numéricas\n",
        "merged['sexo_num'] = merged['sexo'].map({'F': 1, 'M': 0})\n",
        "merged['estadocivil_num'] = merged['estadocivil'].map({'C': 1, 'S': 0})\n",
        "\n",
        "# Calculando a matriz de correlação\n",
        "correlation_matrix = merged[['valor', 'total_alugueis', 'sexo_num', 'estadocivil_num']].corr()\n",
        "\n",
        "# Visualizando a matriz de correlação\n",
        "plt.figure(figsize=(8, 6))\n",
        "sns.heatmap(correlation_matrix, annot=True, cmap='coolwarm', fmt='.2f')\n",
        "plt.title('Matriz de Correlação')\n",
        "plt.show()"
      ],
      "metadata": {
        "colab": {
          "base_uri": "https://localhost:8080/",
          "height": 545
        },
        "id": "SQ6bHlBsizIC",
        "outputId": "2dbd24b3-8038-456c-d65c-7bf3199d478c"
      },
      "execution_count": null,
      "outputs": [
        {
          "output_type": "display_data",
          "data": {
            "text/plain": [
              "<Figure size 800x600 with 2 Axes>"
            ],
            "image/png": "[encoded data removed]"
          },
          "metadata": {}
        }
      ]
    },
    {
      "cell_type": "markdown",
      "source": [
        "#Função para amostragem estratificada"
      ],
      "metadata": {
        "id": "7-KcEl3lU8gz"
      }
    },
    {
      "cell_type": "code",
      "source": [
        "def amostragem_estratificada(df, strat_col, n):\n",
        "    return df.groupby(strat_col, group_keys=False).apply(lambda x: x.sample(min(len(x), n)))\n",
        "\n",
        "# Definindo o número de amostras por estrato\n",
        "n_amostras = 2  # Pode ser ajustado conforme necessário\n",
        "\n",
        "# Amostragem estratificada por gênero e estado\n",
        "amostra_sexo = amostragem_estratificada(df_cliente, 'sexo', n_amostras)\n",
        "amostra_estado = amostragem_estratificada(df_cliente, 'estado', n_amostras)\n",
        "\n",
        "# Concatenando os resultados\n",
        "amostra_total = pd.concat([amostra_sexo, amostra_estado]).drop_duplicates()\n",
        "\n",
        "# Exibindo a amostra\n",
        "print(\"Amostra Estratificada (Sexo e Estado):\")\n",
        "print(amostra_total)"
      ],
      "metadata": {
        "colab": {
          "base_uri": "https://localhost:8080/"
        },
        "id": "_Bx4rLAukA2P",
        "outputId": "37c327b3-7d8f-4502-dd1b-6d22fce7ad62"
      },
      "execution_count": null,
      "outputs": [
        {
          "output_type": "stream",
          "name": "stdout",
          "text": [
            "Amostra Estratificada (Sexo e Estado):\n",
            "   codcliente              nome           cidade sexo estado estadocivil\n",
            "1           2     Bruna Pereira          Niterói    F     RJ           C\n",
            "0           1         Ana Silva  Duque de Caxias    F     RJ           C\n",
            "2           3  Túlio Nascimento  Duque de Caxias    M     RJ           S\n",
            "3           4    Fernando Souza         Campinas    M     SP           S\n",
            "4           5     Lúcia Andrade        São Paulo    F     SP           C\n"
          ]
        }
      ]
    },
    {
      "cell_type": "markdown",
      "source": [
        "##Histograma do valor dos carros"
      ],
      "metadata": {
        "id": "eRLSewMLVHYy"
      }
    },
    {
      "cell_type": "code",
      "source": [
        "plt.figure(figsize=(8, 6))\n",
        "sns.histplot(df_carro['valor'], bins=5, kde=True)\n",
        "plt.title('Histograma do Valor dos Carros')\n",
        "plt.xlabel('Valor dos Carros')\n",
        "plt.ylabel('Frequência')\n",
        "plt.grid(True)\n",
        "plt.show()"
      ],
      "metadata": {
        "colab": {
          "base_uri": "https://localhost:8080/",
          "height": 564
        },
        "id": "7iiNVNlxlfgR",
        "outputId": "7b84dcdf-83d0-4321-9920-93ea6977f674"
      },
      "execution_count": null,
      "outputs": [
        {
          "output_type": "display_data",
          "data": {
            "text/plain": [
              "<Figure size 800x600 with 1 Axes>"
            ],
            "image/png": "[encoded data removed]"
          },
          "metadata": {}
        }
      ]
    },
    {
      "cell_type": "markdown",
      "source": [
        "**Calculando a covariância**"
      ],
      "metadata": {
        "id": "JTBVwwV7VOZu"
      }
    },
    {
      "cell_type": "code",
      "source": [
        "alugueis_count = df_aluguel['codcarro'].value_counts().reset_index()\n",
        "alugueis_count.columns = ['codcarro', 'total_alugueis']\n",
        "\n",
        "carros = df_carro.merge(alugueis_count, on='codcarro', how='left').fillna(0)\n",
        "\n",
        "covariancia = carros[['valor', 'total_alugueis']].cov().iloc[0, 1]\n",
        "\n",
        "print(f\"A covariância entre o valor dos carros e o total de aluguéis é: {covariancia}\")\n",
        "\n",
        "# A covariância de -15.0 entre o valor dos carros e o total de aluguéis indica uma relação inversa entre essas duas variáveis. Isso significa que, conforme o valor dos carros aumenta, o número total de aluguéis tende a diminuir, e vice-versa."
      ],
      "metadata": {
        "colab": {
          "base_uri": "https://localhost:8080/"
        },
        "id": "axCxf3ZwnaiX",
        "outputId": "6f90ea60-ed9b-4a48-9e6d-66647931eb01"
      },
      "execution_count": null,
      "outputs": [
        {
          "output_type": "stream",
          "name": "stdout",
          "text": [
            "A covariância entre o valor dos carros e o total de aluguéis é: -15.0\n"
          ]
        }
      ]
    },
    {
      "cell_type": "markdown",
      "source": [
        "**Realizando o Teste Qui-Quadrado**"
      ],
      "metadata": {
        "id": "m8_zKfkhVV5A"
      }
    },
    {
      "cell_type": "code",
      "source": [
        "import scipy.stats as stats\n",
        "\n",
        "# Criando a tabela de contingência\n",
        "contingencia = pd.crosstab(df_cliente['sexo'], df_cliente['estadocivil'])\n",
        "\n",
        "# Exibindo a tabela de contingência\n",
        "print(\"Tabela de Contingência:\")\n",
        "print(contingencia)\n",
        "\n",
        "# Realizando o Teste Qui-Quadrado\n",
        "chi2, p, dof, expected = stats.chi2_contingency(contingencia)\n",
        "\n",
        "print(f'\\nEstatística Qui-Quadrado: {chi2}')\n",
        "print(f'Valor-p: {p}')\n",
        "print(f'Degrees of Freedom: {dof}')\n",
        "print(f'Frequências Esperadas:\\n{expected}')\n",
        "\n",
        "# Interpretação do resultado\n",
        "alpha = 0.05\n",
        "if p < alpha:\n",
        "    print(\"\\nRejeitamos a hipótese nula: existe uma relação significativa entre sexo e estado civil.\")\n",
        "else:\n",
        "    print(\"\\nNão rejeitamos a hipótese nula: não há relação significativa entre sexo e estado civil.\")"
      ],
      "metadata": {
        "colab": {
          "base_uri": "https://localhost:8080/"
        },
        "id": "hFb13LoonzcJ",
        "outputId": "f91ff00f-6476-4465-e13a-3234a67b40ab"
      },
      "execution_count": null,
      "outputs": [
        {
          "output_type": "stream",
          "name": "stdout",
          "text": [
            "Tabela de Contingência:\n",
            "estadocivil  C  S\n",
            "sexo             \n",
            "F            3  0\n",
            "M            0  2\n",
            "\n",
            "Estatística Qui-Quadrado: 1.7013888888888888\n",
            "Valor-p: 0.1921064408679386\n",
            "Degrees of Freedom: 1\n",
            "Frequências Esperadas:\n",
            "[[1.8 1.2]\n",
            " [1.2 0.8]]\n",
            "\n",
            "Não rejeitamos a hipótese nula: não há relação significativa entre sexo e estado civil.\n"
          ]
        }
      ]
    },
    {
      "cell_type": "markdown",
      "source": [
        "**K-means para agrupamento**"
      ],
      "metadata": {
        "id": "05fvxsn6Vbhq"
      }
    },
    {
      "cell_type": "code",
      "source": [
        "import numpy as np\n",
        "import matplotlib.pyplot as plt\n",
        "from sklearn.cluster import KMeans\n",
        "from sklearn.preprocessing import StandardScaler\n",
        "\n",
        "X = carros[['valor']]\n",
        "\n",
        "# Padronizando os dados\n",
        "scaler = StandardScaler()\n",
        "X_scaled = scaler.fit_transform(X)\n",
        "\n",
        "# Aplicando K-means\n",
        "k = 2  # Número de clusters\n",
        "kmeans = KMeans(n_clusters=k, random_state=42)\n",
        "carros['cluster'] = kmeans.fit_predict(X_scaled)\n",
        "\n",
        "# Visualizando os resultados\n",
        "plt.figure(figsize=(10, 6))\n",
        "plt.scatter(carros['valor'], np.zeros_like(carros['valor']), c=carros['cluster'], cmap='viridis', marker='o')\n",
        "plt.title('K-means Clustering dos Carros')\n",
        "plt.xlabel('Valor dos Carros')\n",
        "plt.yticks([])  # Remove o eixo y para melhor visualização\n",
        "plt.grid(True)\n",
        "\n",
        "# Mostrando os centros dos clusters\n",
        "centros = scaler.inverse_transform(kmeans.cluster_centers_)\n",
        "plt.scatter(centros[:, 0], np.zeros_like(centros[:, 0]), c='red', s=200, alpha=0.75, marker='X', label='Centros dos Clusters')\n",
        "plt.legend()\n",
        "plt.show()\n",
        "\n",
        "# Exibindo os dados dos carros com os clusters\n",
        "print(carros)"
      ],
      "metadata": {
        "colab": {
          "base_uri": "https://localhost:8080/",
          "height": 790
        },
        "collapsed": true,
        "id": "SVukE9vDrD8p",
        "outputId": "eb109182-34e1-4335-ee9b-11b164c60872"
      },
      "execution_count": null,
      "outputs": [
        {
          "output_type": "display_data",
          "data": {
            "text/plain": [
              "<Figure size 1000x600 with 1 Axes>"
            ],
            "image/png": "[encoded data removed]"
          },
          "metadata": {}
        },
        {
          "output_type": "stream",
          "name": "stdout",
          "text": [
            "   codcarro  codmarca modelo  valor  total_alugueis_x  total_alugueis_y  \\\n",
            "0         1         1     Ka  100.0               4.0               4.0   \n",
            "1         2         2   Argo  150.0               3.0               3.0   \n",
            "2         3         3   Onix  170.0               1.0               1.0   \n",
            "3         4         4   Polo  150.0               2.0               2.0   \n",
            "4         5         5   Kwid  120.0               0.0               0.0   \n",
            "\n",
            "   cluster  \n",
            "0        1  \n",
            "1        0  \n",
            "2        0  \n",
            "3        0  \n",
            "4        1  \n"
          ]
        }
      ]
    },
    {
      "cell_type": "markdown",
      "source": [
        "##Distribuição Binominal"
      ],
      "metadata": {
        "id": "4CSS5pP4Vje4"
      }
    },
    {
      "cell_type": "code",
      "source": [
        "import numpy as np\n",
        "import matplotlib.pyplot as plt\n",
        "from scipy.stats import binom\n",
        "\n",
        "n = 10  # número de tentativas\n",
        "p = 0.5  # probabilidade de sucesso\n",
        "\n",
        "# Criando um array de possíveis sucessos (0 a n)\n",
        "x = np.arange(0, n + 1)\n",
        "\n",
        "# Calculando a probabilidade de cada número de sucessos\n",
        "probabilidades = binom.pmf(x, n, p)\n",
        "\n",
        "# Visualizando a distribuição\n",
        "plt.figure(figsize=(10, 6))\n",
        "plt.bar(x, probabilidades, color='skyblue', alpha=0.7)\n",
        "plt.title('Distribuição Binomial: n = 10, p = 0.5')\n",
        "plt.xlabel('Número de Sucessos')\n",
        "plt.ylabel('Probabilidade')\n",
        "plt.xticks(x)\n",
        "plt.grid(axis='y')\n",
        "plt.show()\n",
        "\n",
        "# Cálculo da média e variância\n",
        "media = n * p\n",
        "variancia = n * p * (1 - p)\n",
        "\n",
        "print(f'Média: {media}')\n",
        "print(f'Variância: {variancia}')"
      ],
      "metadata": {
        "colab": {
          "base_uri": "https://localhost:8080/",
          "height": 599
        },
        "id": "wRumKu3kr6si",
        "outputId": "96d533ef-ef3c-4820-8ba7-174efa5d9e21"
      },
      "execution_count": null,
      "outputs": [
        {
          "output_type": "display_data",
          "data": {
            "text/plain": [
              "<Figure size 1000x600 with 1 Axes>"
            ],
            "image/png": "[encoded data removed]"
          },
          "metadata": {}
        },
        {
          "output_type": "stream",
          "name": "stdout",
          "text": [
            "Média: 5.0\n",
            "Variância: 2.5\n"
          ]
        }
      ]
    },
    {
      "cell_type": "markdown",
      "source": [
        "**Fechando a conexão após finalizar análises**"
      ],
      "metadata": {
        "id": "h_xIKjKWVsLA"
      }
    },
    {
      "cell_type": "code",
      "source": [
        "if connection:\n",
        "  connection.close()"
      ],
      "metadata": {
        "id": "h6IdIY2bgOmP"
      },
      "execution_count": null,
      "outputs": []
    }
  ]
}